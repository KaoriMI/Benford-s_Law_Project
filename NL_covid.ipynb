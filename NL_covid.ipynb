{
 "cells": [
  {
   "cell_type": "code",
   "execution_count": 1,
   "metadata": {},
   "outputs": [],
   "source": [
    "import numpy as np\n",
    "import pandas as pd\n",
    "import seaborn as sns\n",
    "import matplotlib.pyplot as plt"
   ]
  },
  {
   "cell_type": "code",
   "execution_count": 3,
   "metadata": {},
   "outputs": [],
   "source": [
    "df = pd.read_csv('COVID-19_aantallen_gemeente_per_dag.csv', delimiter = \";\")"
   ]
  },
  {
   "cell_type": "code",
   "execution_count": 15,
   "metadata": {},
   "outputs": [
    {
     "data": {
      "text/html": [
       "<div>\n",
       "<style scoped>\n",
       "    .dataframe tbody tr th:only-of-type {\n",
       "        vertical-align: middle;\n",
       "    }\n",
       "\n",
       "    .dataframe tbody tr th {\n",
       "        vertical-align: top;\n",
       "    }\n",
       "\n",
       "    .dataframe thead th {\n",
       "        text-align: right;\n",
       "    }\n",
       "</style>\n",
       "<table border=\"1\" class=\"dataframe\">\n",
       "  <thead>\n",
       "    <tr style=\"text-align: right;\">\n",
       "      <th></th>\n",
       "      <th>Date_of_report</th>\n",
       "      <th>Date_of_publication</th>\n",
       "      <th>Municipality_code</th>\n",
       "      <th>Municipality_name</th>\n",
       "      <th>Province</th>\n",
       "      <th>Security_region_code</th>\n",
       "      <th>Security_region_name</th>\n",
       "      <th>Municipal_health_service</th>\n",
       "      <th>ROAZ_region</th>\n",
       "      <th>Total_reported</th>\n",
       "      <th>Hospital_admission</th>\n",
       "      <th>Deceased</th>\n",
       "    </tr>\n",
       "  </thead>\n",
       "  <tbody>\n",
       "    <tr>\n",
       "      <th>0</th>\n",
       "      <td>2021-02-24 10:00:00</td>\n",
       "      <td>2020-02-27</td>\n",
       "      <td>GM0014</td>\n",
       "      <td>Groningen</td>\n",
       "      <td>Groningen</td>\n",
       "      <td>VR01</td>\n",
       "      <td>Groningen</td>\n",
       "      <td>GGD Groningen</td>\n",
       "      <td>Acute Zorgnetwerk Noord Nederland</td>\n",
       "      <td>0</td>\n",
       "      <td>0</td>\n",
       "      <td>0</td>\n",
       "    </tr>\n",
       "    <tr>\n",
       "      <th>1</th>\n",
       "      <td>2021-02-24 10:00:00</td>\n",
       "      <td>2020-02-27</td>\n",
       "      <td>GM0034</td>\n",
       "      <td>Almere</td>\n",
       "      <td>Flevoland</td>\n",
       "      <td>VR25</td>\n",
       "      <td>Flevoland</td>\n",
       "      <td>GGD Flevoland</td>\n",
       "      <td>SpoedZorgNet</td>\n",
       "      <td>0</td>\n",
       "      <td>0</td>\n",
       "      <td>0</td>\n",
       "    </tr>\n",
       "    <tr>\n",
       "      <th>2</th>\n",
       "      <td>2021-02-24 10:00:00</td>\n",
       "      <td>2020-02-27</td>\n",
       "      <td>GM0037</td>\n",
       "      <td>Stadskanaal</td>\n",
       "      <td>Groningen</td>\n",
       "      <td>VR01</td>\n",
       "      <td>Groningen</td>\n",
       "      <td>GGD Groningen</td>\n",
       "      <td>Acute Zorgnetwerk Noord Nederland</td>\n",
       "      <td>0</td>\n",
       "      <td>0</td>\n",
       "      <td>0</td>\n",
       "    </tr>\n",
       "    <tr>\n",
       "      <th>3</th>\n",
       "      <td>2021-02-24 10:00:00</td>\n",
       "      <td>2020-02-27</td>\n",
       "      <td>GM0047</td>\n",
       "      <td>Veendam</td>\n",
       "      <td>Groningen</td>\n",
       "      <td>VR01</td>\n",
       "      <td>Groningen</td>\n",
       "      <td>GGD Groningen</td>\n",
       "      <td>Acute Zorgnetwerk Noord Nederland</td>\n",
       "      <td>0</td>\n",
       "      <td>0</td>\n",
       "      <td>0</td>\n",
       "    </tr>\n",
       "    <tr>\n",
       "      <th>4</th>\n",
       "      <td>2021-02-24 10:00:00</td>\n",
       "      <td>2020-02-27</td>\n",
       "      <td>GM0050</td>\n",
       "      <td>Zeewolde</td>\n",
       "      <td>Flevoland</td>\n",
       "      <td>VR25</td>\n",
       "      <td>Flevoland</td>\n",
       "      <td>GGD Flevoland</td>\n",
       "      <td>SpoedZorgNet</td>\n",
       "      <td>0</td>\n",
       "      <td>0</td>\n",
       "      <td>0</td>\n",
       "    </tr>\n",
       "  </tbody>\n",
       "</table>\n",
       "</div>"
      ],
      "text/plain": [
       "        Date_of_report Date_of_publication Municipality_code  \\\n",
       "0  2021-02-24 10:00:00          2020-02-27            GM0014   \n",
       "1  2021-02-24 10:00:00          2020-02-27            GM0034   \n",
       "2  2021-02-24 10:00:00          2020-02-27            GM0037   \n",
       "3  2021-02-24 10:00:00          2020-02-27            GM0047   \n",
       "4  2021-02-24 10:00:00          2020-02-27            GM0050   \n",
       "\n",
       "  Municipality_name   Province Security_region_code Security_region_name  \\\n",
       "0         Groningen  Groningen                 VR01            Groningen   \n",
       "1            Almere  Flevoland                 VR25            Flevoland   \n",
       "2       Stadskanaal  Groningen                 VR01            Groningen   \n",
       "3           Veendam  Groningen                 VR01            Groningen   \n",
       "4          Zeewolde  Flevoland                 VR25            Flevoland   \n",
       "\n",
       "  Municipal_health_service                        ROAZ_region  Total_reported  \\\n",
       "0            GGD Groningen  Acute Zorgnetwerk Noord Nederland               0   \n",
       "1            GGD Flevoland                       SpoedZorgNet               0   \n",
       "2            GGD Groningen  Acute Zorgnetwerk Noord Nederland               0   \n",
       "3            GGD Groningen  Acute Zorgnetwerk Noord Nederland               0   \n",
       "4            GGD Flevoland                       SpoedZorgNet               0   \n",
       "\n",
       "   Hospital_admission  Deceased  \n",
       "0                   0         0  \n",
       "1                   0         0  \n",
       "2                   0         0  \n",
       "3                   0         0  \n",
       "4                   0         0  "
      ]
     },
     "execution_count": 15,
     "metadata": {},
     "output_type": "execute_result"
    }
   ],
   "source": [
    "df.head()"
   ]
  },
  {
   "cell_type": "code",
   "execution_count": 26,
   "metadata": {},
   "outputs": [],
   "source": [
    "df_date = df[['Date_of_publication', 'Total_reported', 'Hospital_admission', 'Deceased']].groupby('Date_of_publication').sum().reset_index()"
   ]
  },
  {
   "cell_type": "code",
   "execution_count": 30,
   "metadata": {},
   "outputs": [
    {
     "data": {
      "text/html": [
       "<div>\n",
       "<style scoped>\n",
       "    .dataframe tbody tr th:only-of-type {\n",
       "        vertical-align: middle;\n",
       "    }\n",
       "\n",
       "    .dataframe tbody tr th {\n",
       "        vertical-align: top;\n",
       "    }\n",
       "\n",
       "    .dataframe thead th {\n",
       "        text-align: right;\n",
       "    }\n",
       "</style>\n",
       "<table border=\"1\" class=\"dataframe\">\n",
       "  <thead>\n",
       "    <tr style=\"text-align: right;\">\n",
       "      <th></th>\n",
       "      <th>Date_of_publication</th>\n",
       "      <th>Total_reported</th>\n",
       "      <th>Hospital_admission</th>\n",
       "      <th>Deceased</th>\n",
       "    </tr>\n",
       "  </thead>\n",
       "  <tbody>\n",
       "    <tr>\n",
       "      <th>0</th>\n",
       "      <td>2020-02-27</td>\n",
       "      <td>0</td>\n",
       "      <td>1</td>\n",
       "      <td>0</td>\n",
       "    </tr>\n",
       "    <tr>\n",
       "      <th>1</th>\n",
       "      <td>2020-02-28</td>\n",
       "      <td>1</td>\n",
       "      <td>0</td>\n",
       "      <td>0</td>\n",
       "    </tr>\n",
       "    <tr>\n",
       "      <th>2</th>\n",
       "      <td>2020-02-29</td>\n",
       "      <td>1</td>\n",
       "      <td>1</td>\n",
       "      <td>0</td>\n",
       "    </tr>\n",
       "    <tr>\n",
       "      <th>3</th>\n",
       "      <td>2020-03-01</td>\n",
       "      <td>3</td>\n",
       "      <td>0</td>\n",
       "      <td>0</td>\n",
       "    </tr>\n",
       "    <tr>\n",
       "      <th>4</th>\n",
       "      <td>2020-03-02</td>\n",
       "      <td>5</td>\n",
       "      <td>0</td>\n",
       "      <td>0</td>\n",
       "    </tr>\n",
       "  </tbody>\n",
       "</table>\n",
       "</div>"
      ],
      "text/plain": [
       "  Date_of_publication  Total_reported  Hospital_admission  Deceased\n",
       "0          2020-02-27               0                   1         0\n",
       "1          2020-02-28               1                   0         0\n",
       "2          2020-02-29               1                   1         0\n",
       "3          2020-03-01               3                   0         0\n",
       "4          2020-03-02               5                   0         0"
      ]
     },
     "execution_count": 30,
     "metadata": {},
     "output_type": "execute_result"
    }
   ],
   "source": [
    "df_date.head()"
   ]
  },
  {
   "cell_type": "code",
   "execution_count": 35,
   "metadata": {},
   "outputs": [],
   "source": [
    "df_date['first_total_reported'] = df_date['Total_reported'].astype(str).str[0].astype(int)\n",
    "df_date['first_hospital_admission'] = df_date['Hospital_admission'].astype(str).str[0].astype(int)\n",
    "df_date['first_deceased'] = df_date['Deceased'].astype(str).str[0].astype(int)"
   ]
  },
  {
   "cell_type": "code",
   "execution_count": 36,
   "metadata": {},
   "outputs": [
    {
     "data": {
      "text/html": [
       "<div>\n",
       "<style scoped>\n",
       "    .dataframe tbody tr th:only-of-type {\n",
       "        vertical-align: middle;\n",
       "    }\n",
       "\n",
       "    .dataframe tbody tr th {\n",
       "        vertical-align: top;\n",
       "    }\n",
       "\n",
       "    .dataframe thead th {\n",
       "        text-align: right;\n",
       "    }\n",
       "</style>\n",
       "<table border=\"1\" class=\"dataframe\">\n",
       "  <thead>\n",
       "    <tr style=\"text-align: right;\">\n",
       "      <th></th>\n",
       "      <th>Date_of_publication</th>\n",
       "      <th>Total_reported</th>\n",
       "      <th>Hospital_admission</th>\n",
       "      <th>Deceased</th>\n",
       "      <th>first_total_reported</th>\n",
       "      <th>first_hospital_admission</th>\n",
       "      <th>first_deceased</th>\n",
       "    </tr>\n",
       "  </thead>\n",
       "  <tbody>\n",
       "    <tr>\n",
       "      <th>0</th>\n",
       "      <td>2020-02-27</td>\n",
       "      <td>0</td>\n",
       "      <td>1</td>\n",
       "      <td>0</td>\n",
       "      <td>0</td>\n",
       "      <td>1</td>\n",
       "      <td>0</td>\n",
       "    </tr>\n",
       "    <tr>\n",
       "      <th>1</th>\n",
       "      <td>2020-02-28</td>\n",
       "      <td>1</td>\n",
       "      <td>0</td>\n",
       "      <td>0</td>\n",
       "      <td>1</td>\n",
       "      <td>0</td>\n",
       "      <td>0</td>\n",
       "    </tr>\n",
       "    <tr>\n",
       "      <th>2</th>\n",
       "      <td>2020-02-29</td>\n",
       "      <td>1</td>\n",
       "      <td>1</td>\n",
       "      <td>0</td>\n",
       "      <td>1</td>\n",
       "      <td>1</td>\n",
       "      <td>0</td>\n",
       "    </tr>\n",
       "    <tr>\n",
       "      <th>3</th>\n",
       "      <td>2020-03-01</td>\n",
       "      <td>3</td>\n",
       "      <td>0</td>\n",
       "      <td>0</td>\n",
       "      <td>3</td>\n",
       "      <td>0</td>\n",
       "      <td>0</td>\n",
       "    </tr>\n",
       "    <tr>\n",
       "      <th>4</th>\n",
       "      <td>2020-03-02</td>\n",
       "      <td>5</td>\n",
       "      <td>0</td>\n",
       "      <td>0</td>\n",
       "      <td>5</td>\n",
       "      <td>0</td>\n",
       "      <td>0</td>\n",
       "    </tr>\n",
       "  </tbody>\n",
       "</table>\n",
       "</div>"
      ],
      "text/plain": [
       "  Date_of_publication  Total_reported  Hospital_admission  Deceased  \\\n",
       "0          2020-02-27               0                   1         0   \n",
       "1          2020-02-28               1                   0         0   \n",
       "2          2020-02-29               1                   1         0   \n",
       "3          2020-03-01               3                   0         0   \n",
       "4          2020-03-02               5                   0         0   \n",
       "\n",
       "   first_total_reported  first_hospital_admission  first_deceased  \n",
       "0                     0                         1               0  \n",
       "1                     1                         0               0  \n",
       "2                     1                         1               0  \n",
       "3                     3                         0               0  \n",
       "4                     5                         0               0  "
      ]
     },
     "execution_count": 36,
     "metadata": {},
     "output_type": "execute_result"
    }
   ],
   "source": [
    "df_date.head()"
   ]
  },
  {
   "cell_type": "code",
   "execution_count": 41,
   "metadata": {},
   "outputs": [
    {
     "data": {
      "text/html": [
       "<div>\n",
       "<style scoped>\n",
       "    .dataframe tbody tr th:only-of-type {\n",
       "        vertical-align: middle;\n",
       "    }\n",
       "\n",
       "    .dataframe tbody tr th {\n",
       "        vertical-align: top;\n",
       "    }\n",
       "\n",
       "    .dataframe thead th {\n",
       "        text-align: right;\n",
       "    }\n",
       "</style>\n",
       "<table border=\"1\" class=\"dataframe\">\n",
       "  <thead>\n",
       "    <tr style=\"text-align: right;\">\n",
       "      <th></th>\n",
       "      <th>Total_reported</th>\n",
       "      <th>Hospital_admission</th>\n",
       "      <th>Deceased</th>\n",
       "      <th>first_total_reported</th>\n",
       "      <th>first_hospital_admission</th>\n",
       "      <th>first_deceased</th>\n",
       "    </tr>\n",
       "  </thead>\n",
       "  <tbody>\n",
       "    <tr>\n",
       "      <th>count</th>\n",
       "      <td>364.000000</td>\n",
       "      <td>364.000000</td>\n",
       "      <td>364.000000</td>\n",
       "      <td>364.000000</td>\n",
       "      <td>364.000000</td>\n",
       "      <td>364.000000</td>\n",
       "    </tr>\n",
       "    <tr>\n",
       "      <th>mean</th>\n",
       "      <td>2936.703297</td>\n",
       "      <td>65.865385</td>\n",
       "      <td>42.324176</td>\n",
       "      <td>4.098901</td>\n",
       "      <td>4.464286</td>\n",
       "      <td>3.502747</td>\n",
       "    </tr>\n",
       "    <tr>\n",
       "      <th>std</th>\n",
       "      <td>3311.543057</td>\n",
       "      <td>89.802728</td>\n",
       "      <td>45.628266</td>\n",
       "      <td>2.582223</td>\n",
       "      <td>2.748671</td>\n",
       "      <td>2.703430</td>\n",
       "    </tr>\n",
       "    <tr>\n",
       "      <th>min</th>\n",
       "      <td>0.000000</td>\n",
       "      <td>0.000000</td>\n",
       "      <td>0.000000</td>\n",
       "      <td>0.000000</td>\n",
       "      <td>0.000000</td>\n",
       "      <td>0.000000</td>\n",
       "    </tr>\n",
       "    <tr>\n",
       "      <th>25%</th>\n",
       "      <td>213.000000</td>\n",
       "      <td>7.000000</td>\n",
       "      <td>3.000000</td>\n",
       "      <td>1.000000</td>\n",
       "      <td>2.000000</td>\n",
       "      <td>1.000000</td>\n",
       "    </tr>\n",
       "    <tr>\n",
       "      <th>50%</th>\n",
       "      <td>1014.000000</td>\n",
       "      <td>54.000000</td>\n",
       "      <td>27.000000</td>\n",
       "      <td>4.000000</td>\n",
       "      <td>5.000000</td>\n",
       "      <td>3.000000</td>\n",
       "    </tr>\n",
       "    <tr>\n",
       "      <th>75%</th>\n",
       "      <td>5317.500000</td>\n",
       "      <td>84.000000</td>\n",
       "      <td>74.000000</td>\n",
       "      <td>6.000000</td>\n",
       "      <td>7.000000</td>\n",
       "      <td>6.000000</td>\n",
       "    </tr>\n",
       "    <tr>\n",
       "      <th>max</th>\n",
       "      <td>12998.000000</td>\n",
       "      <td>695.000000</td>\n",
       "      <td>231.000000</td>\n",
       "      <td>9.000000</td>\n",
       "      <td>9.000000</td>\n",
       "      <td>9.000000</td>\n",
       "    </tr>\n",
       "  </tbody>\n",
       "</table>\n",
       "</div>"
      ],
      "text/plain": [
       "       Total_reported  Hospital_admission    Deceased  first_total_reported  \\\n",
       "count      364.000000          364.000000  364.000000            364.000000   \n",
       "mean      2936.703297           65.865385   42.324176              4.098901   \n",
       "std       3311.543057           89.802728   45.628266              2.582223   \n",
       "min          0.000000            0.000000    0.000000              0.000000   \n",
       "25%        213.000000            7.000000    3.000000              1.000000   \n",
       "50%       1014.000000           54.000000   27.000000              4.000000   \n",
       "75%       5317.500000           84.000000   74.000000              6.000000   \n",
       "max      12998.000000          695.000000  231.000000              9.000000   \n",
       "\n",
       "       first_hospital_admission  first_deceased  \n",
       "count                364.000000      364.000000  \n",
       "mean                   4.464286        3.502747  \n",
       "std                    2.748671        2.703430  \n",
       "min                    0.000000        0.000000  \n",
       "25%                    2.000000        1.000000  \n",
       "50%                    5.000000        3.000000  \n",
       "75%                    7.000000        6.000000  \n",
       "max                    9.000000        9.000000  "
      ]
     },
     "execution_count": 41,
     "metadata": {},
     "output_type": "execute_result"
    }
   ],
   "source": [
    "df_date.describe()"
   ]
  },
  {
   "cell_type": "code",
   "execution_count": 38,
   "metadata": {},
   "outputs": [
    {
     "data": {
      "image/png": "[encoded data removed]",
      "text/plain": [
       "<Figure size 432x288 with 1 Axes>"
      ]
     },
     "metadata": {
      "needs_background": "light"
     },
     "output_type": "display_data"
    }
   ],
   "source": [
    "sns.countplot(x = 'first_total_reported', data = df_date);"
   ]
  },
  {
   "cell_type": "code",
   "execution_count": 39,
   "metadata": {},
   "outputs": [
    {
     "data": {
      "image/png": "[encoded data removed]",
      "text/plain": [
       "<Figure size 432x288 with 1 Axes>"
      ]
     },
     "metadata": {
      "needs_background": "light"
     },
     "output_type": "display_data"
    }
   ],
   "source": [
    "sns.countplot(x = 'first_hospital_admission', data = df_date);"
   ]
  },
  {
   "cell_type": "code",
   "execution_count": 40,
   "metadata": {},
   "outputs": [
    {
     "data": {
      "image/png": "[encoded data removed]",
      "text/plain": [
       "<Figure size 432x288 with 1 Axes>"
      ]
     },
     "metadata": {
      "needs_background": "light"
     },
     "output_type": "display_data"
    }
   ],
   "source": [
    "sns.countplot(x = 'first_deceased', data = df_date);"
   ]
  },
  {
   "cell_type": "code",
   "execution_count": null,
   "metadata": {},
   "outputs": [],
   "source": []
  }
 ],
 "metadata": {
  "kernelspec": {
   "display_name": "Python 3",
   "language": "python",
   "name": "python3"
  },
  "language_info": {
   "codemirror_mode": {
    "name": "ipython",
    "version": 3
   },
   "file_extension": ".py",
   "mimetype": "text/x-python",
   "name": "python",
   "nbconvert_exporter": "python",
   "pygments_lexer": "ipython3",
   "version": "3.8.5"
  }
 },
 "nbformat": 4,
 "nbformat_minor": 4
}
